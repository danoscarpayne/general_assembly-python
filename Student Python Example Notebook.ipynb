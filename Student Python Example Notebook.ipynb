{
 "cells": [
  {
   "cell_type": "markdown",
   "metadata": {},
   "source": [
    "# Jupyter Demo\n",
    "\n",
    "This is a note in Markdown"
   ]
  },
  {
   "cell_type": "code",
   "execution_count": null,
   "metadata": {
    "collapsed": true
   },
   "outputs": [],
   "source": [
    "2+2"
   ]
  },
  {
   "cell_type": "code",
   "execution_count": null,
   "metadata": {
    "collapsed": true
   },
   "outputs": [],
   "source": [
    "print(\"hello\")\n",
    "2+2\n",
    "3+3"
   ]
  },
  {
   "cell_type": "code",
   "execution_count": null,
   "metadata": {
    "collapsed": true
   },
   "outputs": [],
   "source": [
    "just some code"
   ]
  },
  {
   "cell_type": "markdown",
   "metadata": {},
   "source": [
    "# hello world!"
   ]
  },
  {
   "cell_type": "code",
   "execution_count": null,
   "metadata": {
    "collapsed": true,
    "scrolled": true
   },
   "outputs": [],
   "source": [
    "# this is a comment line\n",
    "print('hello world') # single quotes"
   ]
  },
  {
   "cell_type": "code",
   "execution_count": null,
   "metadata": {
    "collapsed": true
   },
   "outputs": [],
   "source": [
    "print(\"hello world\") # double quotes"
   ]
  },
  {
   "cell_type": "code",
   "execution_count": null,
   "metadata": {
    "collapsed": true
   },
   "outputs": [],
   "source": [
    "print('''hello world''') # triple single quotes"
   ]
  },
  {
   "cell_type": "code",
   "execution_count": null,
   "metadata": {
    "collapsed": true
   },
   "outputs": [],
   "source": [
    "print(\"\"\"hello world\"\"\") # triple double quotes"
   ]
  },
  {
   "cell_type": "markdown",
   "metadata": {},
   "source": [
    "# Variables"
   ]
  },
  {
   "cell_type": "code",
   "execution_count": null,
   "metadata": {
    "collapsed": true
   },
   "outputs": [],
   "source": [
    "x = 3"
   ]
  },
  {
   "cell_type": "code",
   "execution_count": null,
   "metadata": {
    "collapsed": true,
    "scrolled": true
   },
   "outputs": [],
   "source": [
    "type(x) # type function"
   ]
  },
  {
   "cell_type": "markdown",
   "metadata": {},
   "source": [
    "# Operators and Methods"
   ]
  },
  {
   "cell_type": "code",
   "execution_count": null,
   "metadata": {
    "collapsed": true
   },
   "outputs": [],
   "source": [
    "x + 3"
   ]
  },
  {
   "cell_type": "code",
   "execution_count": null,
   "metadata": {
    "collapsed": true,
    "scrolled": true
   },
   "outputs": [],
   "source": [
    "x.__add__(3) # \"dunder add dunder\" (or just \"add\") method\n",
    "            # Pythons's instructions for executing +"
   ]
  },
  {
   "cell_type": "markdown",
   "metadata": {},
   "source": [
    "# Lists"
   ]
  },
  {
   "cell_type": "code",
   "execution_count": null,
   "metadata": {
    "collapsed": true,
    "scrolled": true
   },
   "outputs": [],
   "source": [
    "my_list = [ 1,2,3,4,5,6,7,8,9,10]\n",
    "my_list"
   ]
  },
  {
   "cell_type": "code",
   "execution_count": null,
   "metadata": {
    "collapsed": true
   },
   "outputs": [],
   "source": [
    "my_list[3::2] # start : end : skip"
   ]
  },
  {
   "cell_type": "code",
   "execution_count": null,
   "metadata": {
    "collapsed": true,
    "scrolled": true
   },
   "outputs": [],
   "source": [
    "my_list.append(7)\n",
    "my_list"
   ]
  },
  {
   "cell_type": "code",
   "execution_count": null,
   "metadata": {
    "collapsed": true
   },
   "outputs": [],
   "source": [
    "my_list.remove(2)\n",
    "my_list"
   ]
  },
  {
   "cell_type": "markdown",
   "metadata": {},
   "source": [
    "# Dictionaries"
   ]
  },
  {
   "cell_type": "code",
   "execution_count": null,
   "metadata": {
    "collapsed": true
   },
   "outputs": [],
   "source": [
    "ages = {\"Adam\": 32, \"Ashley\": 24, \"Jon\": 54}\n",
    "ages"
   ]
  },
  {
   "cell_type": "code",
   "execution_count": null,
   "metadata": {
    "collapsed": true
   },
   "outputs": [],
   "source": [
    "ages[\"Adam\"]"
   ]
  },
  {
   "cell_type": "markdown",
   "metadata": {},
   "source": [
    "# if"
   ]
  },
  {
   "cell_type": "code",
   "execution_count": null,
   "metadata": {
    "collapsed": true
   },
   "outputs": [],
   "source": [
    "A = 10\n",
    "B = 100"
   ]
  },
  {
   "cell_type": "code",
   "execution_count": null,
   "metadata": {
    "collapsed": true
   },
   "outputs": [],
   "source": [
    "if A == 10:\n",
    "    print(\"var is 10\")"
   ]
  },
  {
   "cell_type": "code",
   "execution_count": null,
   "metadata": {
    "collapsed": true
   },
   "outputs": [],
   "source": [
    "if B == 10:\n",
    "    print(\"var is 10\")"
   ]
  },
  {
   "cell_type": "code",
   "execution_count": null,
   "metadata": {
    "collapsed": true
   },
   "outputs": [],
   "source": [
    "if A == 10:\n",
    "    print(\"var is 10\")\n",
    "else:\n",
    "    print(\"var is not 10\")"
   ]
  },
  {
   "cell_type": "code",
   "execution_count": null,
   "metadata": {
    "collapsed": true
   },
   "outputs": [],
   "source": [
    "if B == 10:\n",
    "    print(\"var is 10\")\n",
    "else:\n",
    "    print(\"var is not 10\")"
   ]
  },
  {
   "cell_type": "markdown",
   "metadata": {},
   "source": [
    "# for Loops"
   ]
  },
  {
   "cell_type": "code",
   "execution_count": null,
   "metadata": {
    "collapsed": true
   },
   "outputs": [],
   "source": [
    "total = 0\n",
    "for number in [1,2,3,4,5]:\n",
    "    total += number\n",
    "print(\"total is:\",total)"
   ]
  },
  {
   "cell_type": "code",
   "execution_count": null,
   "metadata": {
    "collapsed": true
   },
   "outputs": [],
   "source": [
    "import time\n",
    "counter = 0\n",
    "my_list = [1,2,3,4,5]\n",
    "for number in my_list:\n",
    "    counter += 1\n",
    "    my_list.append(counter) # extending the list means we will never finish\n",
    "    print(\"new_list:\", my_list)\n",
    "    time.sleep(1)"
   ]
  },
  {
   "cell_type": "code",
   "execution_count": null,
   "metadata": {
    "collapsed": true
   },
   "outputs": [],
   "source": [
    "counter = 0\n",
    "my_list = [1,2,3,4,5]\n",
    "for number in my_list:\n",
    "    counter += 1\n",
    "#     my_list.append(counter)\n",
    "    print(\"new_list:\", my_list)\n",
    "    time.sleep(1)"
   ]
  },
  {
   "cell_type": "markdown",
   "metadata": {},
   "source": [
    "# Functions"
   ]
  },
  {
   "cell_type": "code",
   "execution_count": null,
   "metadata": {
    "collapsed": true
   },
   "outputs": [],
   "source": [
    "square"
   ]
  },
  {
   "cell_type": "code",
   "execution_count": null,
   "metadata": {
    "collapsed": true
   },
   "outputs": [],
   "source": [
    "def square(x):\n",
    "    \"\"\"Return the square of x\"\"\"\n",
    "    return x ** 2  # no output when defining the function because there was no execution"
   ]
  },
  {
   "cell_type": "code",
   "execution_count": null,
   "metadata": {
    "collapsed": true
   },
   "outputs": [],
   "source": [
    "square(3)"
   ]
  },
  {
   "cell_type": "code",
   "execution_count": null,
   "metadata": {
    "collapsed": true
   },
   "outputs": [],
   "source": [
    "x = square(5)  # here output is saved in x rather than being presented on the screen"
   ]
  },
  {
   "cell_type": "code",
   "execution_count": null,
   "metadata": {
    "collapsed": true
   },
   "outputs": [],
   "source": [
    "x"
   ]
  },
  {
   "cell_type": "markdown",
   "metadata": {},
   "source": [
    "# Tweet Cleaning example"
   ]
  },
  {
   "cell_type": "code",
   "execution_count": 1,
   "metadata": {},
   "outputs": [],
   "source": [
    "# Generate some random tweets\n",
    "tweets = ['Hello World',\n",
    "         'Buy perfume at http://www.dansperfumes.com',\n",
    "         'Weather forecasts rain tomorrow',\n",
    "         'Sale on toasters!! http://www.danstoasters.com',\n",
    "         'England Win World Cup']"
   ]
  },
  {
   "cell_type": "code",
   "execution_count": 2,
   "metadata": {},
   "outputs": [
    {
     "name": "stdout",
     "output_type": "stream",
     "text": [
      "Buy perfume at http://www.dansperfumes.com\n",
      "Sale on toasters!! http://www.danstoasters.com\n"
     ]
    }
   ],
   "source": [
    "# Demonstrate locating \n",
    "for tweet in tweets:\n",
    "    \n",
    "    # Condition to test\n",
    "    if 'http' in tweet:\n",
    "        \n",
    "        # action to perform\n",
    "        print (tweet)"
   ]
  },
  {
   "cell_type": "code",
   "execution_count": 3,
   "metadata": {},
   "outputs": [
    {
     "data": {
      "text/plain": [
       "['Hello World', 'Weather forecasts rain tomorrow', 'England Win World Cup']"
      ]
     },
     "execution_count": 3,
     "metadata": {},
     "output_type": "execute_result"
    }
   ],
   "source": [
    "# to replace urls\n",
    "clean_tweets = []\n",
    "\n",
    "# For loop to go through tweets\n",
    "for tweet in tweets:\n",
    "    \n",
    "    # condition\n",
    "    if 'http' not in tweet:\n",
    "        \n",
    "        # perform action\n",
    "        clean_tweets.append(tweet)\n",
    "        \n",
    "# Take a look\n",
    "clean_tweets"
   ]
  },
  {
   "cell_type": "code",
   "execution_count": 4,
   "metadata": {},
   "outputs": [
    {
     "data": {
      "text/plain": [
       "['Hello World',\n",
       " 'Buy perfume at urls are banned',\n",
       " 'Weather forecasts rain tomorrow',\n",
       " 'Sale on toasters!! urls are banned',\n",
       " 'England Win World Cup']"
      ]
     },
     "execution_count": 4,
     "metadata": {},
     "output_type": "execute_result"
    }
   ],
   "source": [
    "# To replace urls\n",
    "url_removed_tweets = []\n",
    "\n",
    "# replacement word\n",
    "replacement_word = 'urls are banned'\n",
    "\n",
    "# For loop through tweets\n",
    "for tweet in tweets:\n",
    "    \n",
    "    # condition\n",
    "    if 'http' not in tweet:\n",
    "        \n",
    "        # perform action\n",
    "        url_removed_tweets.append(tweet)\n",
    "        \n",
    "    # else statement\n",
    "    else:\n",
    "        \n",
    "        # Empty container for tweet words\n",
    "        word_container = []\n",
    "        \n",
    "        # split up tweet\n",
    "        split_tweet = tweet.split()\n",
    "        \n",
    "        # loop through this\n",
    "        for word in split_tweet:\n",
    "            \n",
    "            # Condition to test\n",
    "            if word.startswith('http'):\n",
    "                \n",
    "                # perform action\n",
    "                word_container.append(replacement_word)\n",
    "                \n",
    "            # else condition\n",
    "            else:\n",
    "                \n",
    "                # action\n",
    "                word_container.append(word)\n",
    "                \n",
    "        # Now join words back together\n",
    "        cleaned_tweet = ' '.join(word_container)\n",
    "        \n",
    "        # append to url removed list\n",
    "        url_removed_tweets.append(cleaned_tweet)\n",
    "        \n",
    "# take a look\n",
    "url_removed_tweets\n",
    "        "
   ]
  },
  {
   "cell_type": "markdown",
   "metadata": {},
   "source": [
    "# Example\n",
    "\n",
    "I recommend starting a new notebook for this example problem (\"download as .py\" and run all cells are not useful since we have intentional errors up above...)\n",
    "\n",
    "The data used here show measured car speeds with 3 other labels\n",
    "\n",
    "1. **pair** - There are 14 pairs of data collected\n",
    "2. **warning** - For each pair, two sections of road were measured:\n",
    "    1. where a warning sign was placed for part of the experiment\n",
    "    2. a similar stretch of road in another part of town where no sign was erected during the experiment (control)\n",
    "3. **period** - (each period has about 100 points) There are 3 time periods in the data for each pair:\n",
    "    1. Before the warning sign was placed on road section 1\n",
    "    2. Just after the sign was placed on road section 1\n",
    "    3. Some time after the sign was erected (so the sign is no longer \"new\")\n",
    "\n",
    "We want to study how the **average speed changes** in one section of road (pair 7, say) after the sign was erected, so we need to:\n",
    "\n",
    "- Read the data\n",
    "- Loop over the rows of data\n",
    "- Select data only from the group of interest\n",
    "- Compute the answer"
   ]
  },
  {
   "cell_type": "code",
   "execution_count": null,
   "metadata": {
    "collapsed": true
   },
   "outputs": [],
   "source": [
    "# pandas is like Excel for Python\n",
    "# it adds a DataFrame data structure to hold data\n",
    "# and functions for reading datafiles easily\n",
    "\n",
    "# Read in a dataset from the web\n",
    "# Google R datasets, should see listing as second hit linking to:\n",
    "# https://vincentarelbundock.github.io/Rdatasets/datasets.html\n",
    "# Using the amis dataset, #5 on that page\n",
    "\n",
    "# see the documentation for the dataset at\n",
    "# https://vincentarelbundock.github.io/Rdatasets/doc/boot/amis.html\n",
    "\n",
    "# this will also work with data stored on your computer\n",
    "# see pd.read_sql() and pd.read_excel()\n",
    "# for more data input options\n",
    "\n",
    "import pandas as pd\n",
    "df = pd.read_csv(\n",
    "    \"https://vincentarelbundock.github.io/Rdatasets/csv/boot/amis.csv\",\n",
    "    usecols=range(1,5)\n",
    "                )"
   ]
  },
  {
   "cell_type": "code",
   "execution_count": null,
   "metadata": {
    "collapsed": true
   },
   "outputs": [],
   "source": [
    "df.head() # preview the data"
   ]
  },
  {
   "cell_type": "code",
   "execution_count": null,
   "metadata": {
    "collapsed": true,
    "scrolled": true
   },
   "outputs": [],
   "source": [
    "for row in df.head().values:  # loop over the rows... test loop on just a few rows to check\n",
    "    print(row)"
   ]
  },
  {
   "cell_type": "code",
   "execution_count": null,
   "metadata": {
    "collapsed": true,
    "scrolled": true
   },
   "outputs": [],
   "source": [
    "for row in df.head().values:  # each row is a list, and I want to filter pair = 7\n",
    "    print(row[3]) # pair is the last column, so I need to slice the last element from each list"
   ]
  },
  {
   "cell_type": "code",
   "execution_count": null,
   "metadata": {
    "collapsed": true
   },
   "outputs": [],
   "source": [
    "my_list = [] # empty list to save just the data I want\n",
    "for row in df.values:\n",
    "    if row[3] == 7: # use an if statement to select just pair 7, note the if is nested inside the loop\n",
    "        my_list.append(row[0]) # append the speed (index 0) to another list to store the data, note this is indented even more!!\n",
    "\n",
    "len(my_list)  # see how much data I got"
   ]
  },
  {
   "cell_type": "code",
   "execution_count": null,
   "metadata": {
    "collapsed": true
   },
   "outputs": [],
   "source": [
    "before = [] # empty list to save just the data I want\n",
    "for row in df.values:\n",
    "    if row[3] == 7:  # filter to road segment 7\n",
    "        if row[2] == 1: # filter just the roads with a warning sign erected\n",
    "            before.append(row[0]) # note this is indented even more!!\n",
    "\n",
    "len(before)  # see how much data I got"
   ]
  },
  {
   "cell_type": "code",
   "execution_count": null,
   "metadata": {
    "collapsed": true
   },
   "outputs": [],
   "source": [
    "before = [] # empty list to save just the data I want\n",
    "after = [] # empty list to save just the data I want\n",
    "\n",
    "for row in df.values:\n",
    "    if row[3] == 7:  # filter to road segment 7\n",
    "        if row[2] == 1: # filter just the roads with a warning sign erected\n",
    "            if row[1] == 1: # filter to just the time before the sign\n",
    "                before.append(row[0]) # note this is indented even more!!\n",
    "            if row[1] == 3: # filter to just the time after the sign\n",
    "                after.append(row[0]) # note this is indented even more!!\n",
    "\n",
    "len(before), len(after)   # see how much data I got"
   ]
  },
  {
   "cell_type": "code",
   "execution_count": null,
   "metadata": {
    "collapsed": true
   },
   "outputs": [],
   "source": [
    "print(\"average before sign: \", sum(before)/len(before))  # average = sum / N"
   ]
  },
  {
   "cell_type": "code",
   "execution_count": null,
   "metadata": {
    "collapsed": true,
    "scrolled": true
   },
   "outputs": [],
   "source": [
    "print(\"average after sign: \", sum(after)/len(after))  # average = sum / N"
   ]
  },
  {
   "cell_type": "code",
   "execution_count": null,
   "metadata": {
    "collapsed": true
   },
   "outputs": [],
   "source": [
    "# Looks like the sign made no difference "
   ]
  },
  {
   "cell_type": "code",
   "execution_count": null,
   "metadata": {
    "collapsed": true
   },
   "outputs": [],
   "source": [
    "# rather than repeat this process in one line with pandas!\n",
    "df.groupby(['pair','warning','period']).agg(['mean','std']).round(2)"
   ]
  },
  {
   "cell_type": "code",
   "execution_count": null,
   "metadata": {
    "collapsed": true,
    "scrolled": false
   },
   "outputs": [],
   "source": [
    "_ = df['speed'].hist() # pandas has lots of other cool features too!"
   ]
  },
  {
   "cell_type": "markdown",
   "metadata": {},
   "source": [
    "# Download and run as script"
   ]
  },
  {
   "cell_type": "markdown",
   "metadata": {},
   "source": [
    "0. Change the Notebook name to `speeding_example`\n",
    "1. File > Download As > Python (.py)\n",
    "    - Click \"Keep\" if Browser warns file may be dangerous\n",
    "2. Open new Terminal (or Anaconda Prompt) window\n",
    "3. Change to Downloads folder in Terminal\n",
    "    - type: `cd Downloads` and press enter\n",
    "4. Run the python script\n",
    "    - type: `python speeding_example.py` and press enter\n",
    "    \n",
    "Note only the printed output lines appear in the terminal!"
   ]
  },
  {
   "cell_type": "code",
   "execution_count": null,
   "metadata": {
    "collapsed": true
   },
   "outputs": [],
   "source": []
  }
 ],
 "metadata": {
  "kernelspec": {
   "display_name": "Python 3",
   "language": "python",
   "name": "python3"
  },
  "language_info": {
   "codemirror_mode": {
    "name": "ipython",
    "version": 3
   },
   "file_extension": ".py",
   "mimetype": "text/x-python",
   "name": "python",
   "nbconvert_exporter": "python",
   "pygments_lexer": "ipython3",
   "version": "3.6.5"
  }
 },
 "nbformat": 4,
 "nbformat_minor": 2
}
